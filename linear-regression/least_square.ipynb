{
 "cells": [
  {
   "cell_type": "markdown",
   "id": "c1555e30",
   "metadata": {},
   "source": [
    "### Método dos Mínimos Quadrados\n",
    "\n",
    "O Método dos Mínimos Quadrados é uma técnica matemática usada para encontrar a melhor equação que representa um conjunto de dados.\n",
    "\n",
    "Imagine que temos vários pontos em um gráfico — por exemplo, salário vs. gasto no cartão — e queremos desenhar **uma reta que passe o mais próximo possível desses pontos**.\n",
    "\n",
    "Essa reta é dada por:\n",
    "\n",
    "$$\n",
    "\\hat{y} = \\beta_0 + \\beta_1 x\n",
    "$$\n",
    "\n",
    "Nosso objetivo é encontrar os coeficientes $\\beta_0$ (intercepto) e $\\beta_1$ (inclinação) que melhor explicam a relação entre `x` e `y`.\n"
   ]
  },
  {
   "cell_type": "markdown",
   "id": "862f125b",
   "metadata": {},
   "source": [
    "### Por que \"mínimos quadrados\"?\n",
    "\n",
    "Porque queremos **minimizar o erro** entre o que o modelo prevê ($\\hat{y}$) e o que realmente aconteceu ($y$).\n",
    "\n",
    "Esse erro é chamado de **resíduo**:\n",
    "$$\n",
    "\\\n",
    "\\varepsilon_i = y_i - \\hat{y}_i\n",
    "\\\n",
    "$$\n",
    "\n",
    "Como temos muitos pontos, somamos todos esses erros **elevados ao quadrado** (pra não dar erro negativo anulando positivo):\n",
    "\n",
    "$$\n",
    "\\\n",
    "\\text{Soma dos quadrados dos erros} = \\sum_{i=1}^{n} (y_i - (\\beta_0 + \\beta_1 x_i))^2\n",
    "\\\n",
    "$$\n",
    "\n",
    "O objetivo do método é **minimizar essa soma**."
   ]
  },
  {
   "cell_type": "markdown",
   "id": "a1685c45",
   "metadata": {},
   "source": [
    "### Pré-requisitos para o método funcionar bem\n",
    "\n",
    "Para que o método dos mínimos quadrados funcione da melhor forma possível, precisamos:\n",
    "\n",
    "- Que os **erros sejam aleatórios e com distribuição normal** (como uma curva em forma de sino).\n",
    "- Que o modelo seja **linear nos parâmetros** (mesmo que envolva $x^2$, desde que $\\beta$ apareça de forma linear).\n",
    "\n",
    "Se essas condições não forem atendidas, o modelo pode gerar estimativas ruins.\n",
    "\n",
    "---"
   ]
  },
  {
   "cell_type": "markdown",
   "id": "846d276e",
   "metadata": {},
   "source": [
    "### Um pouco de história\n",
    "\n",
    "O método dos mínimos quadrados foi pensado por **Carl Friedrich Gauss** em 1795, quando ele tinha apenas 18 anos!  \n",
    "Mas quem publicou primeiro foi **Adrien-Marie Legendre**, em 1805. Gauss publicou suas ideias em 1809.\n",
    "\n",
    "Mesmo assim, o método às vezes é chamado de \"Estimador de Gauss-Markov\", por conta do teorema que mostra que, sob certas condições, **esse método é o melhor possível** (não enviesado e com menor variância entre os estimadores lineares).\n"
   ]
  },
  {
   "cell_type": "markdown",
   "id": "dc57e808",
   "metadata": {},
   "source": [
    "### Em resumo\n",
    "\n",
    "- Queremos uma reta que explique nossos dados.\n",
    "- A reta deve minimizar os erros quadráticos entre os valores reais e os valores previstos.\n",
    "- Isso é feito resolvendo uma equação baseada na soma dos erros ao quadrado.\n",
    "- O método é confiável desde que os erros sejam \"bonzinhos\" (normalmente distribuídos) e o modelo seja linear nos parâmetros."
   ]
  },
  {
   "cell_type": "markdown",
   "id": "63b38faf",
   "metadata": {},
   "source": [
    "### Equações"
   ]
  },
  {
   "cell_type": "markdown",
   "id": "f8479a47",
   "metadata": {},
   "source": [
    "### Equação do Modelo Linear\n",
    "\n",
    "A equação do modelo linear na forma matricial é:\n",
    "$$\n",
    "\\\n",
    "\\hat{Y} = X^T \\hat{\\beta}\n",
    "\\\n",
    "\n",
    "$$\n",
    "\n",
    "#### Explicação\n",
    "\n",
    "- $\\hat{Y}$ → vetor com os **valores previstos** (por exemplo, gastos previstos no cartão)\n",
    "- $X^T$ → **transposta da matriz de entrada** (por exemplo, salário, idade, etc.)\n",
    "- $\\hat{\\beta}$ → **vetor de coeficientes** (os parâmetros do modelo, como a inclinação da reta e o intercepto)\n",
    "\n",
    "Em resumo: essa equação calcula os valores previstos multiplicando os dados de entrada pelos coeficientes do modelo."
   ]
  },
  {
   "cell_type": "code",
   "execution_count": 1,
   "id": "df9d1979",
   "metadata": {},
   "outputs": [],
   "source": [
    "import numpy as np\n",
    "import pandas as pd\n",
    "import matplotlib.pyplot as plt\n",
    "import seaborn as sns"
   ]
  },
  {
   "cell_type": "code",
   "execution_count": 12,
   "id": "b7a6a12c",
   "metadata": {},
   "outputs": [],
   "source": [
    "# entrada\n",
    "x = np.array([0, 1, 2, 3, 4, 5])\n",
    "\n",
    "# Coeficientes do modelo\n",
    "beta_0 = 2  # Intercepto\n",
    "beta_1 = 1.5  # Inclinação da reta\n",
    "\n",
    "# Previsões com base na equação da reta: y = β0 + β1 * x\n",
    "y_pred = beta_0 + beta_1 * x\n",
    "\n",
    "# Criando DataFrame para visualização\n",
    "df = pd.DataFrame({\n",
    "    'x (entrada)': x,\n",
    "    'Intercepto (β₀)': beta_0,\n",
    "    'Previsão (ŷ)': y_pred\n",
    "})"
   ]
  },
  {
   "cell_type": "code",
   "execution_count": 13,
   "id": "02d2933e",
   "metadata": {},
   "outputs": [
    {
     "data": {
      "text/html": [
       "<div>\n",
       "<style scoped>\n",
       "    .dataframe tbody tr th:only-of-type {\n",
       "        vertical-align: middle;\n",
       "    }\n",
       "\n",
       "    .dataframe tbody tr th {\n",
       "        vertical-align: top;\n",
       "    }\n",
       "\n",
       "    .dataframe thead th {\n",
       "        text-align: right;\n",
       "    }\n",
       "</style>\n",
       "<table border=\"1\" class=\"dataframe\">\n",
       "  <thead>\n",
       "    <tr style=\"text-align: right;\">\n",
       "      <th></th>\n",
       "      <th>x (entrada)</th>\n",
       "      <th>Intercepto (β₀)</th>\n",
       "      <th>Previsão (ŷ)</th>\n",
       "    </tr>\n",
       "  </thead>\n",
       "  <tbody>\n",
       "    <tr>\n",
       "      <th>0</th>\n",
       "      <td>0</td>\n",
       "      <td>2</td>\n",
       "      <td>2.0</td>\n",
       "    </tr>\n",
       "    <tr>\n",
       "      <th>1</th>\n",
       "      <td>1</td>\n",
       "      <td>2</td>\n",
       "      <td>3.5</td>\n",
       "    </tr>\n",
       "    <tr>\n",
       "      <th>2</th>\n",
       "      <td>2</td>\n",
       "      <td>2</td>\n",
       "      <td>5.0</td>\n",
       "    </tr>\n",
       "    <tr>\n",
       "      <th>3</th>\n",
       "      <td>3</td>\n",
       "      <td>2</td>\n",
       "      <td>6.5</td>\n",
       "    </tr>\n",
       "    <tr>\n",
       "      <th>4</th>\n",
       "      <td>4</td>\n",
       "      <td>2</td>\n",
       "      <td>8.0</td>\n",
       "    </tr>\n",
       "    <tr>\n",
       "      <th>5</th>\n",
       "      <td>5</td>\n",
       "      <td>2</td>\n",
       "      <td>9.5</td>\n",
       "    </tr>\n",
       "  </tbody>\n",
       "</table>\n",
       "</div>"
      ],
      "text/plain": [
       "   x (entrada)  Intercepto (β₀)  Previsão (ŷ)\n",
       "0            0                2           2.0\n",
       "1            1                2           3.5\n",
       "2            2                2           5.0\n",
       "3            3                2           6.5\n",
       "4            4                2           8.0\n",
       "5            5                2           9.5"
      ]
     },
     "execution_count": 13,
     "metadata": {},
     "output_type": "execute_result"
    }
   ],
   "source": [
    "df"
   ]
  },
  {
   "cell_type": "code",
   "execution_count": 14,
   "id": "686c7dd9",
   "metadata": {},
   "outputs": [
    {
     "data": {
      "image/png": "[encoded data removed]",
      "text/plain": [
       "<Figure size 800x500 with 1 Axes>"
      ]
     },
     "metadata": {},
     "output_type": "display_data"
    }
   ],
   "source": [
    "# figure\n",
    "plt.figure(figsize=(8, 5))\n",
    "\n",
    "# points\n",
    "sns.scatterplot(x=x, y=y_pred, color='blue', s=80, label='Previsões (ŷ)')\n",
    "\n",
    "# linear reg\n",
    "plt.plot(x, y_pred, color='black', label='Reta de regressão')\n",
    "\n",
    "# elements\n",
    "plt.axhline(0, color='gray', linewidth=0.5)\n",
    "plt.axvline(0, color='gray', linewidth=0.5)\n",
    "\n",
    "# details\n",
    "plt.xlabel('x (entrada)')\n",
    "plt.ylabel('ŷ (previsão)')\n",
    "plt.title('Gráfico: Previsões do Modelo Linear')\n",
    "plt.legend()\n",
    "plt.grid(True)\n",
    "plt.show()"
   ]
  },
  {
   "cell_type": "markdown",
   "id": "86e99b19",
   "metadata": {},
   "source": [
    "#### Erro Residual\n",
    "\n",
    "A RSS (Residual Sum of Squares) é a soma de todos os erros ao quadrado entre o valor real e o valor previsto pelo modelo. Quanto menor for esse valor, melhor o modelo ajustou os dados.\n",
    "\n",
    "#### Equação\n",
    "\n",
    "A fórmula do erro residual (RSS - Residual Sum of Squares) é:\n",
    "\n",
    "$$\n",
    "\\\n",
    "\\text{RSS}(\\beta) = \\sum_{i=1}^{N} \\left(y_i - x_i^T \\beta \\right)^2\n",
    "\\\n",
    "$$\n",
    "\n",
    "#### Interpretação:\n",
    "- $y_i$ → valor real observado\n",
    "- $x_i^T \\beta$ → valor previsto pelo modelo (ou seja, $\\hat{y}_i$)\n",
    "- A diferença entre eles é o **erro** (ou resíduo)\n",
    "- O RSS é a **soma dos quadrados desses erros**\n",
    "\n",
    "Se o RSS for pequeno, significa que a reta do modelo está próxima dos dados reais. Quanto maior o RSS, **pior** o modelo se ajusta aos dados."
   ]
  },
  {
   "cell_type": "code",
   "execution_count": 18,
   "id": "89612eea",
   "metadata": {},
   "outputs": [
    {
     "name": "stdout",
     "output_type": "stream",
     "text": [
      "Residual Sum of Squares (RSS): 0.3200\n"
     ]
    }
   ],
   "source": [
    "# entrada\n",
    "x = np.array([0, 1, 2, 3, 4, 5])\n",
    "\n",
    "# Coeficientes do modelo\n",
    "beta_0 = 2\n",
    "beta_1 = 1.5\n",
    "\n",
    "# previsoes\n",
    "y_pred = beta_0 + beta_1 * x\n",
    "\n",
    "# valores reais com algum \"erro\" proposital\n",
    "y_real = np.array([2.2, 3.7, 5.0, 6.1, 7.8, 9.3])\n",
    "\n",
    "# residuos\n",
    "residuos = y_real - y_pred\n",
    "\n",
    "# RSS\n",
    "RSS = np.sum(residuos**2)\n",
    "print(f\"Residual Sum of Squares (RSS): {RSS:.4f}\")"
   ]
  },
  {
   "cell_type": "code",
   "execution_count": 19,
   "id": "4f2ff5cd",
   "metadata": {},
   "outputs": [
    {
     "data": {
      "image/png": "[encoded data removed]",
      "text/plain": [
       "<Figure size 800x500 with 1 Axes>"
      ]
     },
     "metadata": {},
     "output_type": "display_data"
    }
   ],
   "source": [
    "# graphs\n",
    "plt.figure(figsize=(8, 5))\n",
    "plt.plot(x, y_pred, label='Reta do modelo (ŷ)', color='cyan')\n",
    "plt.scatter(x, y_real, label='Valores reais (y)', color='orange', s=80)\n",
    "\n",
    "for i in range(len(x)):\n",
    "    plt.plot([x[i], x[i]], [y_real[i], y_pred[i]], color='red', linestyle='--')\n",
    "\n",
    "plt.xlabel('x (entrada)')\n",
    "plt.ylabel('y')\n",
    "plt.title('Gráfico: Resíduos (Erros entre y e ŷ)')\n",
    "plt.legend()\n",
    "plt.grid(True)\n",
    "plt.show()"
   ]
  },
  {
   "cell_type": "markdown",
   "id": "4c02d872",
   "metadata": {},
   "source": [
    "#### Mínimo da somatória do erro ao quadrado\n",
    "\n",
    "$$\n",
    "\\\n",
    "\\min \\sum (y_i - \\hat{y}_i)^2\n",
    "\\\n",
    "$$\n",
    "\n",
    "Essa equação representa o objetivo do modelo de regressão linear: encontrar os coeficientes $\\beta_0$ e $\\beta_1$ que minimizem a soma dos erros ao quadrado entre os valores reais $y_i$ e os previstos $\\hat{y}_i$.\n"
   ]
  },
  {
   "cell_type": "code",
   "execution_count": 20,
   "id": "f8d99859",
   "metadata": {},
   "outputs": [
    {
     "name": "stdout",
     "output_type": "stream",
     "text": [
      "Erro quadrático total (função objetivo): 0.3200\n"
     ]
    }
   ],
   "source": [
    "# residuo\n",
    "residuos = y_real - y_pred\n",
    "\n",
    "# Somatório do erro ao quadrado (função objetivo a ser minimizada)\n",
    "erro_quadrado_total = np.sum(residuos**2)\n",
    "\n",
    "print(f\"Erro quadrático total (função objetivo): {erro_quadrado_total:.4f}\")"
   ]
  },
  {
   "cell_type": "code",
   "execution_count": 21,
   "id": "361a76dc",
   "metadata": {},
   "outputs": [
    {
     "name": "stdout",
     "output_type": "stream",
     "text": [
      "Melhor combinação encontrada:\n",
      "Intercepto (β₀): 2.204\n",
      "Inclinação (β₁): 1.388\n",
      "Erro quadrático mínimo: 0.1103\n"
     ]
    }
   ],
   "source": [
    "# testando várias combinações de beta_0 e beta_1 para encontrar o menor erro\n",
    "melhor_erro = float('inf')\n",
    "melhor_b0 = None\n",
    "melhor_b1 = None\n",
    "\n",
    "for b0 in np.linspace(0, 4, 50):\n",
    "    for b1 in np.linspace(1, 2, 50):\n",
    "        y_hat = b0 + b1 * x\n",
    "        erro = np.sum((y_real - y_hat) ** 2)\n",
    "\n",
    "        if erro < melhor_erro:\n",
    "            melhor_erro = erro\n",
    "            melhor_b0 = b0\n",
    "            melhor_b1 = b1\n",
    "\n",
    "print(f\"Melhor combinação encontrada:\")\n",
    "print(f\"Intercepto (β₀): {melhor_b0:.3f}\")\n",
    "print(f\"Inclinação (β₁): {melhor_b1:.3f}\")\n",
    "print(f\"Erro quadrático mínimo: {melhor_erro:.4f}\")"
   ]
  }
 ],
 "metadata": {
  "kernelspec": {
   "display_name": "Python 3",
   "language": "python",
   "name": "python3"
  },
  "language_info": {
   "codemirror_mode": {
    "name": "ipython",
    "version": 3
   },
   "file_extension": ".py",
   "mimetype": "text/x-python",
   "name": "python",
   "nbconvert_exporter": "python",
   "pygments_lexer": "ipython3",
   "version": "3.12.2"
  }
 },
 "nbformat": 4,
 "nbformat_minor": 5
}
