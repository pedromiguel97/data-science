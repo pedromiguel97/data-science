{
 "cells": [
  {
   "cell_type": "code",
   "execution_count": 1,
   "id": "357037cc",
   "metadata": {},
   "outputs": [],
   "source": [
    "import pandas as pd\n",
    "from SpecialTopicsinLearning.LeastSquares import LeastSquares"
   ]
  },
  {
   "cell_type": "code",
   "execution_count": 2,
   "id": "69268d7a",
   "metadata": {},
   "outputs": [],
   "source": [
    "# Instanciando a classe do método\n",
    "ls = LeastSquares()"
   ]
  },
  {
   "cell_type": "code",
   "execution_count": 3,
   "id": "7552b519",
   "metadata": {},
   "outputs": [],
   "source": [
    "# file = 'alpswater.xlsx'\n",
    "file = 'Books_attend_grade.xls'\n",
    "# file = 'USCensus.xls'\n",
    "\n",
    "df = pd.read_excel('database/' + file, engine='xlrd')"
   ]
  },
  {
   "cell_type": "code",
   "execution_count": 4,
   "id": "fc3dfab9",
   "metadata": {},
   "outputs": [
    {
     "data": {
      "text/html": [
       "<div>\n",
       "<style scoped>\n",
       "    .dataframe tbody tr th:only-of-type {\n",
       "        vertical-align: middle;\n",
       "    }\n",
       "\n",
       "    .dataframe tbody tr th {\n",
       "        vertical-align: top;\n",
       "    }\n",
       "\n",
       "    .dataframe thead th {\n",
       "        text-align: right;\n",
       "    }\n",
       "</style>\n",
       "<table border=\"1\" class=\"dataframe\">\n",
       "  <thead>\n",
       "    <tr style=\"text-align: right;\">\n",
       "      <th></th>\n",
       "      <th>BOOKS</th>\n",
       "      <th>ATTEND</th>\n",
       "      <th>GRADE</th>\n",
       "    </tr>\n",
       "  </thead>\n",
       "  <tbody>\n",
       "    <tr>\n",
       "      <th>0</th>\n",
       "      <td>0</td>\n",
       "      <td>9</td>\n",
       "      <td>45</td>\n",
       "    </tr>\n",
       "    <tr>\n",
       "      <th>1</th>\n",
       "      <td>1</td>\n",
       "      <td>15</td>\n",
       "      <td>57</td>\n",
       "    </tr>\n",
       "    <tr>\n",
       "      <th>2</th>\n",
       "      <td>0</td>\n",
       "      <td>10</td>\n",
       "      <td>45</td>\n",
       "    </tr>\n",
       "    <tr>\n",
       "      <th>3</th>\n",
       "      <td>2</td>\n",
       "      <td>16</td>\n",
       "      <td>51</td>\n",
       "    </tr>\n",
       "    <tr>\n",
       "      <th>4</th>\n",
       "      <td>4</td>\n",
       "      <td>10</td>\n",
       "      <td>65</td>\n",
       "    </tr>\n",
       "  </tbody>\n",
       "</table>\n",
       "</div>"
      ],
      "text/plain": [
       "   BOOKS  ATTEND  GRADE\n",
       "0      0       9     45\n",
       "1      1      15     57\n",
       "2      0      10     45\n",
       "3      2      16     51\n",
       "4      4      10     65"
      ]
     },
     "execution_count": 4,
     "metadata": {},
     "output_type": "execute_result"
    }
   ],
   "source": [
    "df.head()"
   ]
  },
  {
   "cell_type": "code",
   "execution_count": 5,
   "id": "c30b9abc",
   "metadata": {},
   "outputs": [],
   "source": [
    "# Para cada base temos uma certa entrada, descomentar a usada anteriormente\n",
    "\n",
    "X_train = [df.BOOKS.values, df.ATTEND.values]\n",
    "Y_train = [df.GRADE.values]"
   ]
  },
  {
   "cell_type": "code",
   "execution_count": 6,
   "id": "6717d42b",
   "metadata": {},
   "outputs": [
    {
     "data": {
      "text/plain": [
       "'USCensus.xls'"
      ]
     },
     "execution_count": 6,
     "metadata": {},
     "output_type": "execute_result"
    }
   ],
   "source": [
    "'''alpswater.xlsx'''\n",
    "# Y_train = [df.BPt.values]\n",
    "# X_train = [df.Pressure.values]\n",
    "\n",
    "'''USCensus.xls'''\n",
    "# Y_train = [df.Census.values]\n",
    "# X_train = [df.Year.values, [x**2 for x in df.Year.values]]"
   ]
  },
  {
   "cell_type": "code",
   "execution_count": 7,
   "id": "80af625f",
   "metadata": {},
   "outputs": [
    {
     "data": {
      "text/plain": [
       "'Para cada tipo de entrada, temos que usar no vetor abaixo o primeiro valor como 1\\nque representa a dimensão do bias e os proximos valores são o conjunto de\\npredição Xo, X1, Xn'"
      ]
     },
     "execution_count": 7,
     "metadata": {},
     "output_type": "execute_result"
    }
   ],
   "source": [
    "ls.fit(X=X_train,Y=Y_train, bias=1)\n",
    "\n",
    "'''Para cada tipo de entrada, temos que usar no vetor abaixo o primeiro valor como 1\n",
    "que representa a dimensão do bias e os proximos valores são o conjunto de\n",
    "predição Xo, X1, Xn'''"
   ]
  },
  {
   "cell_type": "code",
   "execution_count": 8,
   "id": "1471d5e7",
   "metadata": {},
   "outputs": [
    {
     "name": "stdout",
     "output_type": "stream",
     "text": [
      "[[67.08562331]]\n"
     ]
    },
    {
     "data": {
      "text/plain": [
       "array([[67.08562331]])"
      ]
     },
     "execution_count": 8,
     "metadata": {},
     "output_type": "execute_result"
    }
   ],
   "source": [
    "X_test = [[1, 1, 20]]\n",
    "\n",
    "#função de predição\n",
    "ls.predict(X=X_test)"
   ]
  },
  {
   "cell_type": "code",
   "execution_count": 9,
   "id": "e96aaad3",
   "metadata": {},
   "outputs": [
    {
     "data": {
      "image/png": "[encoded data removed]",
      "text/plain": [
       "<Figure size 640x480 with 1 Axes>"
      ]
     },
     "metadata": {},
     "output_type": "display_data"
    }
   ],
   "source": [
    "ls.plot()"
   ]
  }
 ],
 "metadata": {
  "kernelspec": {
   "display_name": "Python 3",
   "language": "python",
   "name": "python3"
  },
  "language_info": {
   "codemirror_mode": {
    "name": "ipython",
    "version": 3
   },
   "file_extension": ".py",
   "mimetype": "text/x-python",
   "name": "python",
   "nbconvert_exporter": "python",
   "pygments_lexer": "ipython3",
   "version": "3.12.2"
  }
 },
 "nbformat": 4,
 "nbformat_minor": 5
}
