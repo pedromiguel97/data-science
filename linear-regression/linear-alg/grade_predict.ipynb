{
 "cells": [
  {
   "cell_type": "code",
   "execution_count": 5,
   "id": "94fbf2dc",
   "metadata": {},
   "outputs": [],
   "source": [
    "# imports\n",
    "import numpy as np\n",
    "import pandas as pd"
   ]
  },
  {
   "cell_type": "code",
   "execution_count": 3,
   "id": "4d6a1df0",
   "metadata": {},
   "outputs": [
    {
     "data": {
      "text/html": [
       "<div>\n",
       "<style scoped>\n",
       "    .dataframe tbody tr th:only-of-type {\n",
       "        vertical-align: middle;\n",
       "    }\n",
       "\n",
       "    .dataframe tbody tr th {\n",
       "        vertical-align: top;\n",
       "    }\n",
       "\n",
       "    .dataframe thead th {\n",
       "        text-align: right;\n",
       "    }\n",
       "</style>\n",
       "<table border=\"1\" class=\"dataframe\">\n",
       "  <thead>\n",
       "    <tr style=\"text-align: right;\">\n",
       "      <th></th>\n",
       "      <th>student</th>\n",
       "      <th>read_books_x1</th>\n",
       "      <th>class attendance_x2</th>\n",
       "      <th>final_grade_y</th>\n",
       "    </tr>\n",
       "  </thead>\n",
       "  <tbody>\n",
       "    <tr>\n",
       "      <th>0</th>\n",
       "      <td>A</td>\n",
       "      <td>1</td>\n",
       "      <td>50</td>\n",
       "      <td>60</td>\n",
       "    </tr>\n",
       "    <tr>\n",
       "      <th>1</th>\n",
       "      <td>B</td>\n",
       "      <td>2</td>\n",
       "      <td>60</td>\n",
       "      <td>65</td>\n",
       "    </tr>\n",
       "    <tr>\n",
       "      <th>2</th>\n",
       "      <td>C</td>\n",
       "      <td>3</td>\n",
       "      <td>70</td>\n",
       "      <td>72</td>\n",
       "    </tr>\n",
       "    <tr>\n",
       "      <th>3</th>\n",
       "      <td>D</td>\n",
       "      <td>4</td>\n",
       "      <td>60</td>\n",
       "      <td>74</td>\n",
       "    </tr>\n",
       "    <tr>\n",
       "      <th>4</th>\n",
       "      <td>E</td>\n",
       "      <td>5</td>\n",
       "      <td>80</td>\n",
       "      <td>85</td>\n",
       "    </tr>\n",
       "    <tr>\n",
       "      <th>5</th>\n",
       "      <td>F</td>\n",
       "      <td>1</td>\n",
       "      <td>80</td>\n",
       "      <td>70</td>\n",
       "    </tr>\n",
       "    <tr>\n",
       "      <th>6</th>\n",
       "      <td>G</td>\n",
       "      <td>2</td>\n",
       "      <td>90</td>\n",
       "      <td>78</td>\n",
       "    </tr>\n",
       "    <tr>\n",
       "      <th>7</th>\n",
       "      <td>H</td>\n",
       "      <td>3</td>\n",
       "      <td>95</td>\n",
       "      <td>84</td>\n",
       "    </tr>\n",
       "    <tr>\n",
       "      <th>8</th>\n",
       "      <td>I</td>\n",
       "      <td>4</td>\n",
       "      <td>100</td>\n",
       "      <td>90</td>\n",
       "    </tr>\n",
       "    <tr>\n",
       "      <th>9</th>\n",
       "      <td>J</td>\n",
       "      <td>5</td>\n",
       "      <td>100</td>\n",
       "      <td>92</td>\n",
       "    </tr>\n",
       "  </tbody>\n",
       "</table>\n",
       "</div>"
      ],
      "text/plain": [
       "  student  read_books_x1  class attendance_x2  final_grade_y\n",
       "0       A              1                   50             60\n",
       "1       B              2                   60             65\n",
       "2       C              3                   70             72\n",
       "3       D              4                   60             74\n",
       "4       E              5                   80             85\n",
       "5       F              1                   80             70\n",
       "6       G              2                   90             78\n",
       "7       H              3                   95             84\n",
       "8       I              4                  100             90\n",
       "9       J              5                  100             92"
      ]
     },
     "execution_count": 3,
     "metadata": {},
     "output_type": "execute_result"
    }
   ],
   "source": [
    "# load data\n",
    "data = pd.read_excel('database/grades.xlsx')\n",
    "data"
   ]
  },
  {
   "cell_type": "code",
   "execution_count": null,
   "id": "0b4bcf2d",
   "metadata": {},
   "outputs": [],
   "source": [
    "# -----------------------------------------------\n",
    "# BLOCO 2 – Montando a matriz X com bias (intercepto)\n",
    "# -----------------------------------------------\n",
    "# A matriz X vai conter:\n",
    "# - 1ª coluna: todos os valores iguais a 1 (isso representa o bias β₀)\n",
    "# - 2ª coluna: livros lidos (x₁)\n",
    "# - 3ª coluna: presença nas aulas (x₂)\n",
    "# Isso representa o modelo: y = β₀ + β₁*x₁ + β₂*x₂\n",
    "\n",
    "X = np.column_stack((\n",
    "    np.ones(len(data)), # bias (intercepto/valor inicial)\n",
    "    data['read_books_x1'].values,\n",
    "    data['class attendance_x2'].values\n",
    "))"
   ]
  },
  {
   "cell_type": "code",
   "execution_count": null,
   "id": "7b005bf2",
   "metadata": {},
   "outputs": [],
   "source": [
    "# -----------------------------------------------\n",
    "# BLOCO 3 – Montando o vetor Y com as respostas\n",
    "# -----------------------------------------------\n",
    "# O vetor Y contém apenas as notas reais de cada aluno\n",
    "\n",
    "Y = data['final_grade_y'].values.reshape(-1, 1)"
   ]
  },
  {
   "cell_type": "code",
   "execution_count": 19,
   "id": "7ff8f2ff",
   "metadata": {},
   "outputs": [
    {
     "data": {
      "text/plain": [
       "array([[  1.,   1.,   1.,   1.,   1.,   1.,   1.,   1.,   1.,   1.],\n",
       "       [  1.,   2.,   3.,   4.,   5.,   1.,   2.,   3.,   4.,   5.],\n",
       "       [ 50.,  60.,  70.,  60.,  80.,  80.,  90.,  95., 100., 100.]])"
      ]
     },
     "execution_count": 19,
     "metadata": {},
     "output_type": "execute_result"
    }
   ],
   "source": [
    "# -----------------------------------------------\n",
    "# BLOCO 4 – Calculando os coeficientes β\n",
    "# Fórmula: β = (Xᵀ * X)⁻¹ * Xᵀ * Y\n",
    "# -----------------------------------------------\n",
    "\n",
    "# 4.1 – Transposta de X (Xᵀ)\n",
    "# Transpõe a matriz X, virando linhas em colunas. Necessário para multiplicação correta.\n",
    "X_transposta = X.T\n",
    "X_transposta"
   ]
  },
  {
   "cell_type": "code",
   "execution_count": 20,
   "id": "090dbab3",
   "metadata": {},
   "outputs": [
    {
     "data": {
      "text/plain": [
       "array([[1.0000e+01, 3.0000e+01, 7.8500e+02],\n",
       "       [3.0000e+01, 1.1000e+02, 2.4650e+03],\n",
       "       [7.8500e+02, 2.4650e+03, 6.4525e+04]])"
      ]
     },
     "execution_count": 20,
     "metadata": {},
     "output_type": "execute_result"
    }
   ],
   "source": [
    "# 4.2 – Multiplicação de Xᵀ * X\n",
    "# Isso mede a relação entre as variáveis de entrada (livros, presença)\n",
    "XtX = X_transposta @ X\n",
    "XtX"
   ]
  },
  {
   "cell_type": "code",
   "execution_count": 21,
   "id": "1eb1a042",
   "metadata": {},
   "outputs": [
    {
     "data": {
      "text/plain": [
       "array([[ 2.22312296e+00, -1.57780196e-03, -2.69858542e-02],\n",
       "       [-1.57780196e-03,  6.31664853e-02, -2.39390642e-03],\n",
       "       [-2.69858542e-02, -2.39390642e-03,  4.35255713e-04]])"
      ]
     },
     "execution_count": 21,
     "metadata": {},
     "output_type": "execute_result"
    }
   ],
   "source": [
    "# 4.3 – Inversão de Xᵀ * X\n",
    "# \"Desembaraça\" as relações para podermos resolver a equação\n",
    "XtX_inv = np.linalg.inv(XtX)\n",
    "XtX_inv"
   ]
  },
  {
   "cell_type": "code",
   "execution_count": 23,
   "id": "7d6ab20c",
   "metadata": {},
   "outputs": [
    {
     "data": {
      "text/plain": [
       "array([[  770.],\n",
       "       [ 2425.],\n",
       "       [61980.]])"
      ]
     },
     "execution_count": 23,
     "metadata": {},
     "output_type": "execute_result"
    }
   ],
   "source": [
    "# 4.4 – Multiplicação de Xᵀ * Y\n",
    "# Mede a correlação entre as variáveis de entrada e a saída (nota)\n",
    "XtY = X_transposta @ Y\n",
    "XtY"
   ]
  },
  {
   "cell_type": "code",
   "execution_count": 24,
   "id": "8502e82b",
   "metadata": {},
   "outputs": [
    {
     "data": {
      "text/plain": [
       "array([[35.39526659],\n",
       "       [ 3.58949946],\n",
       "       [ 0.39281828]])"
      ]
     },
     "execution_count": 24,
     "metadata": {},
     "output_type": "execute_result"
    }
   ],
   "source": [
    "# 4.5 – Finalmente, cálculo do vetor de coeficientes β\n",
    "# Esse vetor tem os valores ideais de β₀, β₁ e β₂\n",
    "beta = XtX_inv @ XtY\n",
    "beta"
   ]
  },
  {
   "cell_type": "code",
   "execution_count": null,
   "id": "90a4f4cf",
   "metadata": {},
   "outputs": [
    {
     "name": "stdout",
     "output_type": "stream",
     "text": [
      "Coeficientes β (bias e pesos):\n",
      "β₀ (intercepto)      = 35.3953\n",
      "β₁ (livros lidos)    = 3.5895\n",
      "β₂ (presença % aula) = 0.3928\n"
     ]
    }
   ],
   "source": [
    "# -----------------------------------------------\n",
    "# BLOCO 5 – Mostrando a equação do modelo ajustado\n",
    "# -----------------------------------------------\n",
    "print(\"Coeficientes β (bias e pesos):\")\n",
    "print(f\"β₀ (intercepto)      = {beta[0][0]:.4f}\")\n",
    "print(f\"β₁ (livros lidos)    = {beta[1][0]:.4f}\")\n",
    "print(f\"β₂ (presença % aula) = {beta[2][0]:.4f}\")\n",
    "\n",
    "# Equação:\n",
    "# nota_prevista = β₀ + β₁ * livros + β₂ * presença"
   ]
  },
  {
   "cell_type": "code",
   "execution_count": 26,
   "id": "07be1e7f",
   "metadata": {},
   "outputs": [
    {
     "name": "stdout",
     "output_type": "stream",
     "text": [
      "\n",
      "Nota prevista para 3 livros e 85% de presença: 79.55\n"
     ]
    }
   ],
   "source": [
    "# Exemplo: prever a nota de um aluno que leu 3 livros e teve 85% de presença\n",
    "livros = 3\n",
    "presenca = 85\n",
    "nota_prevista = beta[0][0] + beta[1][0]*livros + beta[2][0]*presenca\n",
    "print(f\"\\nNota prevista para 3 livros e 85% de presença: {nota_prevista:.2f}\")"
   ]
  },
  {
   "cell_type": "code",
   "execution_count": null,
   "id": "3557cf1c",
   "metadata": {},
   "outputs": [],
   "source": []
  }
 ],
 "metadata": {
  "kernelspec": {
   "display_name": "Python 3",
   "language": "python",
   "name": "python3"
  },
  "language_info": {
   "codemirror_mode": {
    "name": "ipython",
    "version": 3
   },
   "file_extension": ".py",
   "mimetype": "text/x-python",
   "name": "python",
   "nbconvert_exporter": "python",
   "pygments_lexer": "ipython3",
   "version": "3.12.2"
  }
 },
 "nbformat": 4,
 "nbformat_minor": 5
}
